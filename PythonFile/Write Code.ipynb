{
 "cells": [
  {
   "cell_type": "code",
   "execution_count": 3,
   "metadata": {},
   "outputs": [
    {
     "name": "stdout",
     "output_type": "stream",
     "text": [
      "Color32 colorf1_2 = new Color32(dnaforset.f2_color_1_r, dnaforset.f2_color_1_g, dnaforset.f2_color_1_b, dnaforset.f2_color_1_a);\n",
      "Color32 colorf2_2 = new Color32(dnaforset.f2_color_2_r, dnaforset.f2_color_2_g, dnaforset.f2_color_2_b, dnaforset.f2_color_2_a);\n",
      "Color32 colorf3_2 = new Color32(dnaforset.f2_color_3_r, dnaforset.f2_color_3_g, dnaforset.f2_color_3_b, dnaforset.f2_color_3_a);\n",
      "Color32 colorf1_3 = new Color32(dnaforset.f3_color_1_r, dnaforset.f3_color_1_g, dnaforset.f3_color_1_b, dnaforset.f3_color_1_a);\n",
      "Color32 colorf2_3 = new Color32(dnaforset.f3_color_2_r, dnaforset.f3_color_2_g, dnaforset.f3_color_2_b, dnaforset.f3_color_2_a);\n",
      "Color32 colorf3_3 = new Color32(dnaforset.f3_color_3_r, dnaforset.f3_color_3_g, dnaforset.f3_color_3_b, dnaforset.f3_color_3_a);\n"
     ]
    }
   ],
   "source": [
    "for num1 in [2,3]:\n",
    "    for num2 in [1,2,3]:\n",
    "        print(f\"Color32 colorf{num2}_{num1} = new Color32(dnaforset.f{num1}_color_{num2}_r, dnaforset.f{num1}_color_{num2}_g, dnaforset.f{num1}_color_{num2}_b, dnaforset.f{num1}_color_{num2}_a);\")"
   ]
  },
  {
   "cell_type": "code",
   "execution_count": 16,
   "metadata": {},
   "outputs": [
    {
     "name": "stdout",
     "output_type": "stream",
     "text": [
      "colorf1_1, colorf2_1, colorf3_1, colorf1_2, colorf2_2, colorf3_2, colorf1_3, colorf2_3, colorf3_3, \n"
     ]
    }
   ],
   "source": [
    "s = \"\"\n",
    "for num1 in [1,2,3]:\n",
    "    for num2 in [1,2,3]:\n",
    "        s+=f\"colorf{num2}_{num1}, \"\n",
    "print(s)"
   ]
  },
  {
   "cell_type": "code",
   "execution_count": 11,
   "metadata": {},
   "outputs": [
    {
     "name": "stdout",
     "output_type": "stream",
     "text": [
      "dna1.f1_angle_x = dnaforset.f1_angle_x_1;\n",
      "dna1.f1_angle_z = dnaforset.f1_angle_z_1;\n",
      "dna1.f1_half_speed = dnaforset.f1_half_speed_1;\n",
      "dna1.f1_color = colorf1_1;\n",
      "dna1.f2_angle_x = dnaforset.f2_angle_x_1;\n",
      "dna1.f2_angle_z = dnaforset.f2_angle_z_1;\n",
      "dna1.f2_half_speed = dnaforset.f2_half_speed_1;\n",
      "dna1.f2_color = colorf2_1;\n",
      "dna1.f3_angle_x = dnaforset.f3_angle_x_1;\n",
      "dna1.f3_angle_z = dnaforset.f3_angle_z_1;\n",
      "dna1.f3_half_speed = dnaforset.f3_half_speed_1;\n",
      "dna1.f3_color = colorf3_1;\n",
      "dna2.f1_angle_x = dnaforset.f1_angle_x_2;\n",
      "dna2.f1_angle_z = dnaforset.f1_angle_z_2;\n",
      "dna2.f1_half_speed = dnaforset.f1_half_speed_2;\n",
      "dna2.f1_color = colorf1_2;\n",
      "dna2.f2_angle_x = dnaforset.f2_angle_x_2;\n",
      "dna2.f2_angle_z = dnaforset.f2_angle_z_2;\n",
      "dna2.f2_half_speed = dnaforset.f2_half_speed_2;\n",
      "dna2.f2_color = colorf2_2;\n",
      "dna2.f3_angle_x = dnaforset.f3_angle_x_2;\n",
      "dna2.f3_angle_z = dnaforset.f3_angle_z_2;\n",
      "dna2.f3_half_speed = dnaforset.f3_half_speed_2;\n",
      "dna2.f3_color = colorf3_2;\n",
      "dna3.f1_angle_x = dnaforset.f1_angle_x_3;\n",
      "dna3.f1_angle_z = dnaforset.f1_angle_z_3;\n",
      "dna3.f1_half_speed = dnaforset.f1_half_speed_3;\n",
      "dna3.f1_color = colorf1_3;\n",
      "dna3.f2_angle_x = dnaforset.f2_angle_x_3;\n",
      "dna3.f2_angle_z = dnaforset.f2_angle_z_3;\n",
      "dna3.f2_half_speed = dnaforset.f2_half_speed_3;\n",
      "dna3.f2_color = colorf2_3;\n",
      "dna3.f3_angle_x = dnaforset.f3_angle_x_3;\n",
      "dna3.f3_angle_z = dnaforset.f3_angle_z_3;\n",
      "dna3.f3_half_speed = dnaforset.f3_half_speed_3;\n",
      "dna3.f3_color = colorf3_3;\n"
     ]
    }
   ],
   "source": [
    "for f in [1,2,3]:\n",
    "    for num in [1,2,3]:\n",
    "        print(f\"dna{f}.f{num}_angle_x = dnaforset.f{num}_angle_x_{f};\")\n",
    "        print(f\"dna{f}.f{num}_angle_z = dnaforset.f{num}_angle_z_{f};\")\n",
    "        print(f\"dna{f}.f{num}_half_speed = dnaforset.f{num}_half_speed_{f};\")\n",
    "        print(f\"dna{f}.f{num}_color = colorf{num}_{f};\")"
   ]
  },
  {
   "cell_type": "code",
   "execution_count": null,
   "metadata": {},
   "outputs": [],
   "source": []
  }
 ],
 "metadata": {
  "kernelspec": {
   "display_name": "Python 3",
   "language": "python",
   "name": "python3"
  },
  "language_info": {
   "codemirror_mode": {
    "name": "ipython",
    "version": 3
   },
   "file_extension": ".py",
   "mimetype": "text/x-python",
   "name": "python",
   "nbconvert_exporter": "python",
   "pygments_lexer": "ipython3",
   "version": "3.7.9"
  }
 },
 "nbformat": 4,
 "nbformat_minor": 2
}
